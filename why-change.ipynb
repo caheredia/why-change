{
 "cells": [
  {
   "cell_type": "code",
   "execution_count": 40,
   "metadata": {
    "tags": [
     "no_markdown"
    ]
   },
   "outputs": [],
   "source": [
    "from zope.interface import Interface, implementer\n",
    "from zope.interface.verify import verifyClass\n",
    "import attr\n",
    "import sys\n",
    "import pyrsistent\n",
    "from pyrsistent import m, v\n",
    "from __future__ import annotations\n",
    "import pprint\n",
    "import textwrap"
   ]
  },
  {
   "cell_type": "markdown",
   "metadata": {},
   "source": [
    "```{=latex}\n",
    "\\usepackage{hyperref}\n",
    "\\usepackage{graphicx}\n",
    "\\usepackage{listings}\n",
    "\\usepackage{textcomp}\n",
    "\\usepackage{fancyvrb}\n",
    "\n",
    "\\newcommand{\\passthrough}[1]{\\lstset{mathescape=false}#1\\lstset{mathescape=true}}\n",
    "\n",
    "\\title{Why Change?}\n",
    "\\subtitle{Life is Better Without It}\n",
    "\\author{Moshe Zadka -- https://cobordism.com}\n",
    "\\date{2020}\n",
    "\n",
    "\\begin{document}\n",
    "\\begin{titlepage}\n",
    "\\maketitle\n",
    "\\end{titlepage}\n",
    "\n",
    "\\frame{\\titlepage}\n",
    "```"
   ]
  },
  {
   "cell_type": "markdown",
   "metadata": {},
   "source": [
    "```{=latex}\n",
    "\n",
    "\\begin{frame}\n",
    "\\frametitle{Shared Mutable State is Bad}\n",
    "\n",
    "Options:\n",
    "\n",
    "\\begin{itemize}\n",
    "\\item Don't share\n",
    "\\item Don't mutate\n",
    "\\end{itemize}\n",
    "\n",
    "\\end{frame}\n",
    "```\n"
   ]
  },
  {
   "cell_type": "markdown",
   "metadata": {},
   "source": [
    "Shared mutable state is bad. Sometimes people associate that badness with threads, but threads are just one example of how shared mutable state is bad. In Python, it's not even *particularly* bad. Your dictionary will still stay a dictionary. You just might find that the value of a key is different than you expected it tor be.\n",
    "But, after all, this can happen even if you sent this dictionary to a function. Or made the dictionary be a class or instance variable. Or had a function capture it via a closure, then send it to another object, which finally mutated it. \n",
    "\n",
    "If shared mutable state is bad, there are only two ways to avoid it. One way is to avoid sharing. This is *really* hard in Python. Objects are thrown around all the time. The only other way is to avoid mutating."
   ]
  },
  {
   "cell_type": "markdown",
   "metadata": {},
   "source": [
    "```{=latex}\n",
    "\n",
    "\\begin{frame}\n",
    "\\frametitle{Avoid Sharing?}\n",
    "\n",
    "What about\n",
    "\n",
    "\\begin{itemize}\n",
    "\\item Modules\n",
    "\\item Function defaults\n",
    "\\item Class variables\n",
    "\\item Arguments\n",
    "\\end{itemize}\n",
    "\n",
    "\\end{frame}\n",
    "```\n"
   ]
  },
  {
   "cell_type": "markdown",
   "metadata": {},
   "source": [
    "But, after all, this can happen even if you sent this dictionary to a function. Or made the dictionary be a class or instance variable. Or had a function capture it via a closure, then send it to another object, which finally mutated it. "
   ]
  },
  {
   "cell_type": "markdown",
   "metadata": {},
   "source": [
    "```{=latex}\n",
    "\n",
    "\\begin{frame}\n",
    "\\frametitle{Avoid Mutating!}\n",
    "\n",
    "Much better.\n",
    "\n",
    "\\end{frame}\n",
    "```\n"
   ]
  },
  {
   "cell_type": "markdown",
   "metadata": {},
   "source": [
    "If shared mutable state is bad, there are only two ways to avoid it. One way is to avoid sharing. This is *really* hard in Python. Objects are thrown around all the time. The only other way is to avoid mutating. In this talk, we will explore programs without change. Not only will this neatly avoid shared mutable change, I will explore other benefits from having constancy."
   ]
  },
  {
   "cell_type": "markdown",
   "metadata": {},
   "source": [
    "```{=latex}\n",
    "\n",
    "\\begin{frame}\n",
    "\\frametitle{Digression: Are Squares Rectangles?}\n",
    "\n",
    "...and why would anyone care?\n",
    "\n",
    "\\end{frame}\n",
    "```\n"
   ]
  },
  {
   "cell_type": "markdown",
   "metadata": {},
   "source": [
    "```{=latex}\n",
    "\\begin{frame}[fragile]\n",
    "\\frametitle{What's a Rectangle (in Python)}\n",
    "```"
   ]
  },
  {
   "cell_type": "code",
   "execution_count": 41,
   "metadata": {},
   "outputs": [],
   "source": [
    "class IRectangle(Interface):\n",
    "    def get_height() -> float:\n",
    "        \"\"\"Return height\"\"\"\n",
    "    def get_width() -> float:\n",
    "        \"\"\"Return width\"\"\"\n",
    "    def set_height(height: float):\n",
    "        \"\"\"Set height\"\"\"\n",
    "    def set_width(width: float):\n",
    "        \"\"\"Set width\"\"\""
   ]
  },
  {
   "cell_type": "markdown",
   "metadata": {},
   "source": [
    "```{=latex}\n",
    "\\end{frame}\n",
    "```"
   ]
  },
  {
   "cell_type": "markdown",
   "metadata": {},
   "source": [
    "```{=latex}\n",
    "\\begin{frame}[fragile]\n",
    "\\frametitle{What's a Square (in Python)}\n",
    "```"
   ]
  },
  {
   "cell_type": "code",
   "execution_count": 56,
   "metadata": {},
   "outputs": [
    {
     "name": "stderr",
     "output_type": "stream",
     "text": [
      "The IRectangle.set_height(height) attribute was not provided\n",
      "The IRectangle.set_width(width) attribute was not provided\n"
     ]
    }
   ],
   "source": [
    "@implementer(IRectangle)\n",
    "@attr.s(auto_attribs=True)\n",
    "class Square:\n",
    "    _side: float\n",
    "    def get_height(self) -> float: return self._side\n",
    "    def get_width(self) -> float: return self._side\n",
    "try: verifyClass(IRectangle, Square)\n",
    "except Exception as exc:\n",
    "    print(textwrap.dedent(str(exc).split(\":\")[1]\n",
    "          ).strip().replace(\"__main__.\", \"\"),\n",
    "          file=sys.stderr)"
   ]
  },
  {
   "cell_type": "markdown",
   "metadata": {},
   "source": [
    "```{=latex}\n",
    "\\end{frame}\n",
    "```"
   ]
  },
  {
   "cell_type": "markdown",
   "metadata": {},
   "source": [
    "```{=latex}\n",
    "\\begin{frame}[fragile]\n",
    "\\frametitle{What's a Square (in Python) (Fixed)}\n",
    "\n",
    "An easy mistake -- we forgot a couple of methods.\n",
    "\n",
    "Let's fix that.\n",
    "```"
   ]
  },
  {
   "cell_type": "code",
   "execution_count": 58,
   "metadata": {},
   "outputs": [],
   "source": [
    "@implementer(IRectangle)\n",
    "@attr.s(auto_attribs=True)\n",
    "class Square:\n",
    "    _side: float\n",
    "    def get_height(self) -> float: return self._side\n",
    "    def get_width(self) -> float: return self._side\n",
    "    def set_height(self, height: float):\n",
    "        self._side = height # ???\n",
    "    def set_width(self, width: float):\n",
    "        self._side = width # ???"
   ]
  },
  {
   "cell_type": "markdown",
   "metadata": {},
   "source": [
    "```{=latex}\n",
    "\\end{frame}\n",
    "```"
   ]
  },
  {
   "cell_type": "markdown",
   "metadata": {},
   "source": [
    "```{=latex}\n",
    "\\begin{frame}[fragile]\n",
    "\\frametitle{What Do You Do With a Shape (in Python)}\n",
    "```"
   ]
  },
  {
   "cell_type": "code",
   "execution_count": 59,
   "metadata": {},
   "outputs": [
    {
     "name": "stdout",
     "output_type": "stream",
     "text": [
      "25\n",
      "100\n"
     ]
    }
   ],
   "source": [
    "def area(rectangle: IRectangle) -> float:\n",
    "    return (rectangle.get_height() *\n",
    "            rectangle.get_width())\n",
    "def double_height(rectangle: IRectangle) -> float:\n",
    "    rectangle.set_height(\n",
    "        2 * rectangle.get_height())\n",
    "x = Square(side=5)\n",
    "print(area(x))\n",
    "double_height(x)\n",
    "print(area(x))"
   ]
  },
  {
   "cell_type": "markdown",
   "metadata": {},
   "source": [
    "```{=latex}\n",
    "\\end{frame}\n",
    "```"
   ]
  },
  {
   "cell_type": "markdown",
   "metadata": {},
   "source": [
    "```{=latex}\n",
    "\\begin{frame}[fragile]\n",
    "\\frametitle{Let's Stop Mutating}\n",
    "```"
   ]
  },
  {
   "cell_type": "code",
   "execution_count": 64,
   "metadata": {},
   "outputs": [],
   "source": [
    "class IRectangle(Interface):\n",
    "    def get_height() -> float:\n",
    "        \"\"\"Return height\"\"\"\n",
    "    def get_width() -> float:\n",
    "        \"\"\"Return width\"\"\"\n",
    "    def with_height(height: float) -> IRectangle:\n",
    "        \"\"\"Rectangle with same width, new height\"\"\"\n",
    "    def with_width(width: float) -> IRectangle:\n",
    "        \"\"\"Rectangle with same height, new width\"\"\""
   ]
  },
  {
   "cell_type": "markdown",
   "metadata": {},
   "source": [
    "```{=latex}\n",
    "\\end{frame}\n",
    "```"
   ]
  },
  {
   "cell_type": "markdown",
   "metadata": {},
   "source": [
    "```{=latex}\n",
    "\\begin{frame}[fragile]\n",
    "\\frametitle{The Immutable Rectangle}\n",
    "```"
   ]
  },
  {
   "cell_type": "code",
   "execution_count": 65,
   "metadata": {},
   "outputs": [],
   "source": [
    "@implementer(IRectangle)\n",
    "@attr.s(auto_attribs=True, frozen=True)\n",
    "class Rectangle:\n",
    "    _height: float\n",
    "    _width: float\n",
    "    def get_height(self) -> float:\n",
    "        return self._height \n",
    "    def get_width(self) -> float:\n",
    "        return self._width\n",
    "    def with_height(self, height) -> float:\n",
    "        return attr.evolve(self, height=height)\n",
    "    def with_width(self, width) -> float:\n",
    "        return attr.evolve(self, width=width)"
   ]
  },
  {
   "cell_type": "markdown",
   "metadata": {},
   "source": [
    "```{=latex}\n",
    "\\end{frame}\n",
    "```"
   ]
  },
  {
   "cell_type": "markdown",
   "metadata": {},
   "source": [
    "```{=latex}\n",
    "\\begin{frame}[fragile]\n",
    "\\frametitle{The Immutable Square}\n",
    "```"
   ]
  },
  {
   "cell_type": "code",
   "execution_count": 66,
   "metadata": {},
   "outputs": [
    {
     "data": {
      "text/plain": [
       "True"
      ]
     },
     "execution_count": 66,
     "metadata": {},
     "output_type": "execute_result"
    }
   ],
   "source": [
    "@implementer(IRectangle)\n",
    "@attr.s(auto_attribs=True)\n",
    "class Square:\n",
    "    _side: float\n",
    "    def get_height(self) -> float:\n",
    "        return self._side\n",
    "    def get_width(self) -> float:\n",
    "        return self._side\n",
    "    def with_height(self, height: float) -> IRectangle:\n",
    "        return Rectangle(width=self._side,\n",
    "                         height=height)\n",
    "    def with_width(self, width: float) -> IRectangle:\n",
    "        return Rectangle(height=self._side,\n",
    "                         width=width)\n",
    "verifyClass(IRectangle, Square)"
   ]
  },
  {
   "cell_type": "markdown",
   "metadata": {},
   "source": [
    "```{=latex}\n",
    "\\end{frame}\n",
    "```"
   ]
  },
  {
   "cell_type": "markdown",
   "metadata": {},
   "source": [
    "```{=latex}\n",
    "\\begin{frame}[fragile]\n",
    "\\frametitle{What Do You Do With an Immutable Shape (in Python)}\n",
    "```"
   ]
  },
  {
   "cell_type": "code",
   "execution_count": 67,
   "metadata": {},
   "outputs": [
    {
     "name": "stdout",
     "output_type": "stream",
     "text": [
      "25\n",
      "50\n"
     ]
    }
   ],
   "source": [
    "def double_height(rectangle):\n",
    "    return rectangle.with_height(\n",
    "        2 * rectangle.get_height())\n",
    "x = Square(side=5)\n",
    "print(area(x))\n",
    "print(area(double_height(x)))"
   ]
  },
  {
   "cell_type": "markdown",
   "metadata": {},
   "source": [
    "```{=latex}\n",
    "\\end{frame}\n",
    "```"
   ]
  },
  {
   "cell_type": "markdown",
   "metadata": {},
   "source": [
    "```{=latex}\n",
    "\\begin{frame}[fragile]\n",
    "\\frametitle{Let's Get Back to Sharing}\n",
    "\n",
    "At some point, someone told you not to do this.\n",
    "Do you remember why?\n",
    "```"
   ]
  },
  {
   "cell_type": "code",
   "execution_count": 80,
   "metadata": {},
   "outputs": [],
   "source": [
    "def sum_with_extra(e1, e2, things=[]):\n",
    "    things.append(e1)\n",
    "    things.append(e2)\n",
    "    return sum(things)"
   ]
  },
  {
   "cell_type": "markdown",
   "metadata": {},
   "source": [
    "```{=latex}\n",
    "\\end{frame}\n",
    "```"
   ]
  },
  {
   "cell_type": "markdown",
   "metadata": {},
   "source": [
    "```{=latex}\n",
    "\\begin{frame}[fragile]\n",
    "\\frametitle{A Bad Trip Down Memory Lane}\n",
    "```"
   ]
  },
  {
   "cell_type": "code",
   "execution_count": 81,
   "metadata": {},
   "outputs": [
    {
     "data": {
      "text/plain": [
       "10"
      ]
     },
     "execution_count": 81,
     "metadata": {},
     "output_type": "execute_result"
    }
   ],
   "source": [
    "sum_with_extra(1, 2, [3, 4])"
   ]
  },
  {
   "cell_type": "code",
   "execution_count": 82,
   "metadata": {},
   "outputs": [
    {
     "data": {
      "text/plain": [
       "3"
      ]
     },
     "execution_count": 82,
     "metadata": {},
     "output_type": "execute_result"
    }
   ],
   "source": [
    "sum_with_extra(1, 2)"
   ]
  },
  {
   "cell_type": "code",
   "execution_count": 83,
   "metadata": {},
   "outputs": [
    {
     "data": {
      "text/plain": [
       "6"
      ]
     },
     "execution_count": 83,
     "metadata": {},
     "output_type": "execute_result"
    }
   ],
   "source": [
    "# Whoops!\n",
    "sum_with_extra(1, 2)"
   ]
  },
  {
   "cell_type": "markdown",
   "metadata": {},
   "source": [
    "```{=latex}\n",
    "\\end{frame}\n",
    "```"
   ]
  },
  {
   "cell_type": "markdown",
   "metadata": {},
   "source": [
    "```{=latex}\n",
    "\\begin{frame}[fragile]\n",
    "\\frametitle{The Fix is Easy!}\n",
    "```"
   ]
  },
  {
   "cell_type": "code",
   "execution_count": 92,
   "metadata": {},
   "outputs": [],
   "source": [
    "def sum_with_extra_v2(e1, e2, things=None):\n",
    "    if things is None:\n",
    "        things = []\n",
    "    things.append(e1)\n",
    "    things.append(e2)\n",
    "    return sum(things)"
   ]
  },
  {
   "cell_type": "markdown",
   "metadata": {},
   "source": [
    "```{=latex}\n",
    "\\end{frame}\n",
    "```"
   ]
  },
  {
   "cell_type": "markdown",
   "metadata": {},
   "source": [
    "```{=latex}\n",
    "\\begin{frame}[fragile]\n",
    "\\frametitle{Everything is Awesome!}\n",
    "```"
   ]
  },
  {
   "cell_type": "code",
   "execution_count": 93,
   "metadata": {},
   "outputs": [
    {
     "data": {
      "text/plain": [
       "10"
      ]
     },
     "execution_count": 93,
     "metadata": {},
     "output_type": "execute_result"
    }
   ],
   "source": [
    "sum_with_extra_v2(1, 2, [3, 4])"
   ]
  },
  {
   "cell_type": "code",
   "execution_count": 94,
   "metadata": {},
   "outputs": [
    {
     "data": {
      "text/plain": [
       "3"
      ]
     },
     "execution_count": 94,
     "metadata": {},
     "output_type": "execute_result"
    }
   ],
   "source": [
    "sum_with_extra_v2(1, 2)"
   ]
  },
  {
   "cell_type": "code",
   "execution_count": 95,
   "metadata": {},
   "outputs": [
    {
     "data": {
      "text/plain": [
       "3"
      ]
     },
     "execution_count": 95,
     "metadata": {},
     "output_type": "execute_result"
    }
   ],
   "source": [
    "sum_with_extra_v2(1, 2)"
   ]
  },
  {
   "cell_type": "code",
   "execution_count": 96,
   "metadata": {},
   "outputs": [
    {
     "data": {
      "text/plain": [
       "6"
      ]
     },
     "execution_count": 96,
     "metadata": {},
     "output_type": "execute_result"
    }
   ],
   "source": [
    "things = [1, 2]; sum_with_extra_v2(1, 2, things)"
   ]
  },
  {
   "cell_type": "code",
   "execution_count": 97,
   "metadata": {},
   "outputs": [
    {
     "data": {
      "text/plain": [
       "9"
      ]
     },
     "execution_count": 97,
     "metadata": {},
     "output_type": "execute_result"
    }
   ],
   "source": [
    "# Whoops!\n",
    "sum_with_extra_v2(1, 2, things)"
   ]
  },
  {
   "cell_type": "markdown",
   "metadata": {},
   "source": [
    "```{=latex}\n",
    "\\end{frame}\n",
    "```"
   ]
  },
  {
   "cell_type": "markdown",
   "metadata": {},
   "source": [
    "```{=latex}\n",
    "\\begin{frame}[fragile]\n",
    "\\frametitle{One Urgent Hot Fix Later...}\n",
    "\n",
    "We got it to work!\n",
    "```"
   ]
  },
  {
   "cell_type": "code",
   "execution_count": 26,
   "metadata": {},
   "outputs": [],
   "source": [
    "def sum_with_extra_v3(e1, e2, things=None):\n",
    "    if things is None:\n",
    "        things = []\n",
    "    things = things.copy()\n",
    "    things.append(e1)\n",
    "    things.append(e2)\n",
    "    return sum(things)"
   ]
  },
  {
   "cell_type": "markdown",
   "metadata": {},
   "source": [
    "```{=latex}\n",
    "\\end{frame}\n",
    "```"
   ]
  },
  {
   "cell_type": "markdown",
   "metadata": {},
   "source": [
    "```{=latex}\n",
    "\\begin{frame}[fragile]\n",
    "\\frametitle{..Meanwhile, Without Mutation}\n",
    "\n",
    "Let's throw caution to the wind and live our best life.\n",
    "```"
   ]
  },
  {
   "cell_type": "code",
   "execution_count": 98,
   "metadata": {},
   "outputs": [],
   "source": [
    "def sum_with_extra_p_v1(e1, e2, things=v()):\n",
    "    things = things.append(e1)\n",
    "    things = things.append(e2)\n",
    "    return sum(things)"
   ]
  },
  {
   "cell_type": "markdown",
   "metadata": {},
   "source": [
    "```{=latex}\n",
    "\\end{frame}\n",
    "```"
   ]
  },
  {
   "cell_type": "markdown",
   "metadata": {},
   "source": [
    "```{=latex}\n",
    "\\begin{frame}[fragile]\n",
    "\\frametitle{We Don't Need v2}\n",
    "```"
   ]
  },
  {
   "cell_type": "code",
   "execution_count": 99,
   "metadata": {},
   "outputs": [
    {
     "data": {
      "text/plain": [
       "3"
      ]
     },
     "execution_count": 99,
     "metadata": {},
     "output_type": "execute_result"
    }
   ],
   "source": [
    "sum_with_extra_p_v1(1, 2)"
   ]
  },
  {
   "cell_type": "code",
   "execution_count": 100,
   "metadata": {},
   "outputs": [
    {
     "data": {
      "text/plain": [
       "3"
      ]
     },
     "execution_count": 100,
     "metadata": {},
     "output_type": "execute_result"
    }
   ],
   "source": [
    "sum_with_extra_p_v1(1, 2)"
   ]
  },
  {
   "cell_type": "code",
   "execution_count": 101,
   "metadata": {},
   "outputs": [
    {
     "data": {
      "text/plain": [
       "6"
      ]
     },
     "execution_count": 101,
     "metadata": {},
     "output_type": "execute_result"
    }
   ],
   "source": [
    "things = v(1, 2)\n",
    "sum_with_extra_p_v1(1, 2, things)"
   ]
  },
  {
   "cell_type": "code",
   "execution_count": 102,
   "metadata": {},
   "outputs": [
    {
     "data": {
      "text/plain": [
       "6"
      ]
     },
     "execution_count": 102,
     "metadata": {},
     "output_type": "execute_result"
    }
   ],
   "source": [
    "sum_with_extra_p_v1(1, 2, things)"
   ]
  },
  {
   "cell_type": "markdown",
   "metadata": {},
   "source": [
    "```{=latex}\n",
    "\\end{frame}\n",
    "```"
   ]
  },
  {
   "cell_type": "markdown",
   "metadata": {},
   "source": [
    "```{=latex}\n",
    "\\begin{frame}[fragile]\n",
    "\\frametitle{But Nested Data Structures Are a Drag?}\n",
    "```\n",
    "\n",
    "How do you increase the hits on `web_1`?\n"
   ]
  },
  {
   "cell_type": "code",
   "execution_count": 34,
   "metadata": {},
   "outputs": [],
   "source": [
    "stats = m(\n",
    "    frontend=m(\n",
    "        web_1=m(hits=53),\n",
    "        web_2=m(hits=78)),\n",
    "    backend=m(\n",
    "        db1=m(queries=23),\n",
    "        db2=m(queries=11)))"
   ]
  },
  {
   "cell_type": "markdown",
   "metadata": {},
   "source": [
    "```{=latex}\n",
    "\\end{frame}\n",
    "```"
   ]
  },
  {
   "cell_type": "markdown",
   "metadata": {},
   "source": [
    "```{=latex}\n",
    "\\begin{frame}[fragile]\n",
    "\\frametitle{Like This}\n",
    "```"
   ]
  },
  {
   "cell_type": "code",
   "execution_count": 106,
   "metadata": {},
   "outputs": [
    {
     "name": "stdout",
     "output_type": "stream",
     "text": [
      "{'backend': {'db1': {'queries': 23},\n",
      "             'db2': {'queries': 11}},\n",
      " 'frontend': {'web_1': {'hits': 54},\n",
      "              'web_2': {'hits': 78}}}\n"
     ]
    }
   ],
   "source": [
    "new_stats = stats.transform(\n",
    "    v(\"frontend\", \"web_1\", \"hits\"), \n",
    "    lambda x: x + 1)\n",
    "pprint.pprint(pyrsistent.thaw(new_stats),\n",
    "              width=50)"
   ]
  },
  {
   "cell_type": "markdown",
   "metadata": {},
   "source": [
    "```{=latex}\n",
    "\\end{frame}\n",
    "```"
   ]
  },
  {
   "cell_type": "markdown",
   "metadata": {},
   "source": [
    "```{=latex}\n",
    "\\begin{frame}\n",
    "\\frametitle{Conclusion}\n",
    "\n",
    "\\begin{itemize}\n",
    "\\item Sharing good\n",
    "\\item Mutation bad\n",
    "\\item Share more\n",
    "\\item Mutate less\n",
    "\\item Be happy\n",
    "\\end{itemize}\n",
    "\n",
    "\\end{frame}\n",
    "```"
   ]
  },
  {
   "cell_type": "markdown",
   "metadata": {},
   "source": [
    "```{=latex}\n",
    "\\end{document}\n",
    "```"
   ]
  },
  {
   "cell_type": "code",
   "execution_count": null,
   "metadata": {},
   "outputs": [],
   "source": []
  }
 ],
 "metadata": {
  "kernelspec": {
   "display_name": "why-change",
   "language": "python",
   "name": "why-change-venv"
  },
  "language_info": {
   "codemirror_mode": {
    "name": "ipython",
    "version": 3
   },
   "file_extension": ".py",
   "mimetype": "text/x-python",
   "name": "python",
   "nbconvert_exporter": "python",
   "pygments_lexer": "ipython3",
   "version": "3.8.3"
  }
 },
 "nbformat": 4,
 "nbformat_minor": 4
}
