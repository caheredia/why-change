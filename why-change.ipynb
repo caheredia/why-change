{
 "cells": [
  {
   "cell_type": "code",
   "execution_count": 23,
   "metadata": {
    "tags": [
     "no_markdown"
    ]
   },
   "outputs": [],
   "source": [
    "from zope.interface import Interface, implementer\n",
    "from zope.interface.verify import verifyClass\n",
    "import attr\n",
    "import sys"
   ]
  },
  {
   "cell_type": "markdown",
   "metadata": {},
   "source": [
    "```{=latex}\n",
    "\\begin{frame}\n",
    "```"
   ]
  },
  {
   "cell_type": "code",
   "execution_count": 42,
   "metadata": {},
   "outputs": [],
   "source": [
    "class IRectangle(Interface):\n",
    "    def get_height() -> float:\n",
    "        \"\"\"Return height\"\"\"\n",
    "    def get_width() -> float:\n",
    "        \"\"\"Return width\"\"\"\n",
    "    def set_height(height: float):\n",
    "        \"\"\"Set height\"\"\"\n",
    "    def set_width(width: float):\n",
    "        \"\"\"Set width\"\"\""
   ]
  },
  {
   "cell_type": "markdown",
   "metadata": {},
   "source": [
    "```{=latex}\n",
    "\\end{frame}\n",
    "```"
   ]
  },
  {
   "cell_type": "code",
   "execution_count": 45,
   "metadata": {},
   "outputs": [
    {
     "name": "stderr",
     "output_type": "stream",
     "text": [
      "\n",
      "    The __main__.IRectangle.set_height(height) attribute was not provided\n",
      "    The __main__.IRectangle.set_width(width) attribute was not provided\n"
     ]
    }
   ],
   "source": [
    "@implementer(IRectangle)\n",
    "@attr.s(auto_attribs=True)\n",
    "class Square:\n",
    "    side: float\n",
    "\n",
    "    def get_height(self) -> float:\n",
    "        return side\n",
    "    \n",
    "    def get_width(self) -> float:\n",
    "        return side\n",
    "try:\n",
    "    verifyClass(IRectangle, Square)\n",
    "except Exception as exc:\n",
    "    print(str(exc).split(\":\")[1], file=sys.stderr)"
   ]
  },
  {
   "cell_type": "code",
   "execution_count": 56,
   "metadata": {},
   "outputs": [],
   "source": [
    "@implementer(IRectangle)\n",
    "@attr.s(auto_attribs=True)\n",
    "class Square:\n",
    "    _side: float\n",
    "\n",
    "    def get_height(self) -> float:\n",
    "        return self._side\n",
    "    \n",
    "    def get_width(self) -> float:\n",
    "        return self._side\n",
    "\n",
    "    def set_height(self, height: float):\n",
    "        self._side = height # ???\n",
    "        \n",
    "    def set_width(self, width: float):\n",
    "        self._side = width # ???"
   ]
  },
  {
   "cell_type": "code",
   "execution_count": 57,
   "metadata": {},
   "outputs": [
    {
     "name": "stdout",
     "output_type": "stream",
     "text": [
      "25\n",
      "100\n"
     ]
    }
   ],
   "source": [
    "def area(rectangle: Rectangle) -> float:\n",
    "    return rectangle.get_height() * rectangle.get_width()\n",
    "\n",
    "def double_height(rectangle: Rectangle) -> float:\n",
    "    rectangle.set_height(2 * rectangle.get_height())\n",
    "\n",
    "x = Square(side=5)\n",
    "print(area(x))\n",
    "double_height(x)\n",
    "print(area(x))"
   ]
  },
  {
   "cell_type": "code",
   "execution_count": 54,
   "metadata": {},
   "outputs": [],
   "source": [
    "class IRectangle(Interface):\n",
    "    def get_height() -> float:\n",
    "        \"\"\"Return height\"\"\"\n",
    "    def get_width() -> float:\n",
    "        \"\"\"Return width\"\"\"\n",
    "    def with_height(height: float) -> IRectangle:\n",
    "        \"\"\"Rectangle with same width, new height\"\"\"\n",
    "    def with_width(width: float) -> IRectangle:\n",
    "        \"\"\"Rectangle with same height, new width\"\"\""
   ]
  },
  {
   "cell_type": "code",
   "execution_count": 60,
   "metadata": {},
   "outputs": [],
   "source": [
    "@implementer(IRectangle)\n",
    "@attr.s(auto_attribs=True, frozen=True)\n",
    "class Rectangle:\n",
    "    _height: float\n",
    "    _width: float\n",
    "    \n",
    "    def get_height(self) -> float:\n",
    "        return self._height\n",
    "    \n",
    "    def get_width(self) -> float:\n",
    "        return self._width\n",
    "\n",
    "    def with_height(self, height) -> float:\n",
    "        return attr.evolve(self, height=height)\n",
    "    \n",
    "    def with_width(self, width) -> float:\n",
    "        return attr.evolve(self, width=width)"
   ]
  },
  {
   "cell_type": "code",
   "execution_count": 61,
   "metadata": {},
   "outputs": [],
   "source": [
    "@implementer(IRectangle)\n",
    "@attr.s(auto_attribs=True)\n",
    "class Square:\n",
    "    _side: float\n",
    "\n",
    "    def get_height(self) -> float:\n",
    "        return self._side\n",
    "    \n",
    "    def get_width(self) -> float:\n",
    "        return self._side\n",
    "\n",
    "    def with_height(self, height: float) -> IRectangle:\n",
    "        return Rectangle(width=self._side, height=height)\n",
    "    \n",
    "    def with_width(self, width: float) -> IRectangle:\n",
    "        return Rectangle(height=self._side, width=width)\n",
    "\n",
    "try:\n",
    "    verifyClass(IRectangle, Square)\n",
    "except Exception as exc:\n",
    "    print(str(exc).split(\":\")[1], file=sys.stderr)"
   ]
  },
  {
   "cell_type": "code",
   "execution_count": 62,
   "metadata": {},
   "outputs": [
    {
     "name": "stdout",
     "output_type": "stream",
     "text": [
      "25\n",
      "50\n"
     ]
    }
   ],
   "source": [
    "def area(rectangle):\n",
    "    return rectangle.get_height() * rectangle.get_width()\n",
    "\n",
    "def double_height(rectangle):\n",
    "    return rectangle.with_height(2 * rectangle.get_height())\n",
    "\n",
    "x = Square(side=5)\n",
    "print(area(x))\n",
    "print(area(double_height(x)))"
   ]
  },
  {
   "cell_type": "code",
   "execution_count": 1,
   "metadata": {},
   "outputs": [],
   "source": [
    "def sum_with_extra(e1, e2, things=[]):\n",
    "    things.append(e1)\n",
    "    things.append(e2)\n",
    "    return sum(things)"
   ]
  },
  {
   "cell_type": "code",
   "execution_count": 2,
   "metadata": {},
   "outputs": [
    {
     "data": {
      "text/plain": [
       "10"
      ]
     },
     "execution_count": 2,
     "metadata": {},
     "output_type": "execute_result"
    }
   ],
   "source": [
    "sum_with_extra(1, 2, [3, 4])"
   ]
  },
  {
   "cell_type": "code",
   "execution_count": 3,
   "metadata": {},
   "outputs": [
    {
     "data": {
      "text/plain": [
       "3"
      ]
     },
     "execution_count": 3,
     "metadata": {},
     "output_type": "execute_result"
    }
   ],
   "source": [
    "sum_with_extra(1, 2)"
   ]
  },
  {
   "cell_type": "code",
   "execution_count": 4,
   "metadata": {},
   "outputs": [
    {
     "data": {
      "text/plain": [
       "6"
      ]
     },
     "execution_count": 4,
     "metadata": {},
     "output_type": "execute_result"
    }
   ],
   "source": [
    "# Whoops!\n",
    "sum_with_extra(1, 2)"
   ]
  },
  {
   "cell_type": "code",
   "execution_count": 7,
   "metadata": {},
   "outputs": [],
   "source": [
    "def sum_with_extra_v2(e1, e2, things=None):\n",
    "    if things is None:\n",
    "        things = []\n",
    "    things.append(e1)\n",
    "    things.append(e2)\n",
    "    return sum(things)"
   ]
  },
  {
   "cell_type": "code",
   "execution_count": 8,
   "metadata": {},
   "outputs": [
    {
     "data": {
      "text/plain": [
       "10"
      ]
     },
     "execution_count": 8,
     "metadata": {},
     "output_type": "execute_result"
    }
   ],
   "source": [
    "sum_with_extra_v2(1, 2, [3, 4])"
   ]
  },
  {
   "cell_type": "code",
   "execution_count": 9,
   "metadata": {},
   "outputs": [
    {
     "data": {
      "text/plain": [
       "3"
      ]
     },
     "execution_count": 9,
     "metadata": {},
     "output_type": "execute_result"
    }
   ],
   "source": [
    "sum_with_extra_v2(1, 2)"
   ]
  },
  {
   "cell_type": "code",
   "execution_count": 10,
   "metadata": {},
   "outputs": [
    {
     "data": {
      "text/plain": [
       "3"
      ]
     },
     "execution_count": 10,
     "metadata": {},
     "output_type": "execute_result"
    }
   ],
   "source": [
    "sum_with_extra_v2(1, 2)"
   ]
  },
  {
   "cell_type": "code",
   "execution_count": 12,
   "metadata": {},
   "outputs": [
    {
     "data": {
      "text/plain": [
       "6"
      ]
     },
     "execution_count": 12,
     "metadata": {},
     "output_type": "execute_result"
    }
   ],
   "source": [
    "things = [1, 2]\n",
    "sum_with_extra_v2(1, 2, things)"
   ]
  },
  {
   "cell_type": "code",
   "execution_count": 13,
   "metadata": {},
   "outputs": [
    {
     "data": {
      "text/plain": [
       "9"
      ]
     },
     "execution_count": 13,
     "metadata": {},
     "output_type": "execute_result"
    }
   ],
   "source": [
    "sum_with_extra_v2(1, 2, things)"
   ]
  },
  {
   "cell_type": "code",
   "execution_count": 14,
   "metadata": {},
   "outputs": [],
   "source": [
    "def sum_with_extra_v3(e1, e2, things=None):\n",
    "    if things is None:\n",
    "        things = []\n",
    "    things = things.copy()\n",
    "    things.append(e1)\n",
    "    things.append(e2)\n",
    "    return sum(things)"
   ]
  },
  {
   "cell_type": "code",
   "execution_count": 15,
   "metadata": {},
   "outputs": [],
   "source": [
    "from pyrsistent import v"
   ]
  },
  {
   "cell_type": "code",
   "execution_count": 16,
   "metadata": {},
   "outputs": [],
   "source": [
    "def sum_with_extra_p_v1(e1, e2, things=v()):\n",
    "    things = things.append(e1)\n",
    "    things = things.append(e2)\n",
    "    return sum(things)"
   ]
  },
  {
   "cell_type": "code",
   "execution_count": 17,
   "metadata": {},
   "outputs": [
    {
     "data": {
      "text/plain": [
       "3"
      ]
     },
     "execution_count": 17,
     "metadata": {},
     "output_type": "execute_result"
    }
   ],
   "source": [
    "sum_with_extra_p_v1(1, 2)"
   ]
  },
  {
   "cell_type": "code",
   "execution_count": 19,
   "metadata": {},
   "outputs": [
    {
     "data": {
      "text/plain": [
       "3"
      ]
     },
     "execution_count": 19,
     "metadata": {},
     "output_type": "execute_result"
    }
   ],
   "source": [
    "sum_with_extra_p_v1(1, 2)"
   ]
  },
  {
   "cell_type": "code",
   "execution_count": 21,
   "metadata": {},
   "outputs": [
    {
     "data": {
      "text/plain": [
       "6"
      ]
     },
     "execution_count": 21,
     "metadata": {},
     "output_type": "execute_result"
    }
   ],
   "source": [
    "things = v(1, 2)\n",
    "sum_with_extra_p_v1(1, 2, things)"
   ]
  },
  {
   "cell_type": "code",
   "execution_count": 22,
   "metadata": {},
   "outputs": [
    {
     "data": {
      "text/plain": [
       "6"
      ]
     },
     "execution_count": 22,
     "metadata": {},
     "output_type": "execute_result"
    }
   ],
   "source": [
    "sum_with_extra_p_v1(1, 2, things)"
   ]
  },
  {
   "cell_type": "code",
   "execution_count": null,
   "metadata": {},
   "outputs": [],
   "source": []
  }
 ],
 "metadata": {
  "kernelspec": {
   "display_name": "why-change",
   "language": "python",
   "name": "why-change-venv"
  },
  "language_info": {
   "codemirror_mode": {
    "name": "ipython",
    "version": 3
   },
   "file_extension": ".py",
   "mimetype": "text/x-python",
   "name": "python",
   "nbconvert_exporter": "python",
   "pygments_lexer": "ipython3",
   "version": "3.8.3"
  }
 },
 "nbformat": 4,
 "nbformat_minor": 4
}
