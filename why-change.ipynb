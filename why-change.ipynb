{
 "cells": [
  {
   "cell_type": "code",
   "execution_count": 1,
   "metadata": {
    "tags": [
     "no_markdown"
    ]
   },
   "outputs": [],
   "source": [
    "from zope.interface import Interface, implementer\n",
    "from zope.interface.verify import verifyClass\n",
    "import attr\n",
    "import sys\n",
    "import pyrsistent\n",
    "from pyrsistent import m, v\n",
    "from __future__ import annotations\n",
    "import pprint\n",
    "import textwrap"
   ]
  },
  {
   "cell_type": "markdown",
   "metadata": {},
   "source": [
    "```{=latex}\n",
    "\\usepackage{hyperref}\n",
    "\\usepackage{graphicx}\n",
    "\\usepackage{listings}\n",
    "\\usepackage{textcomp}\n",
    "\\usepackage{fancyvrb}\n",
    "\n",
    "\\newcommand{\\passthrough}[1]{\\lstset{mathescape=false}#1\\lstset{mathescape=true}}\n",
    "\n",
    "\\title{Why Change?}\n",
    "\\subtitle{Life is Better Without It}\n",
    "\\author{Moshe Zadka -- https://cobordism.com}\n",
    "\\date{2020}\n",
    "\n",
    "\\begin{document}\n",
    "\\begin{titlepage}\n",
    "\\maketitle\n",
    "\\end{titlepage}\n",
    "\n",
    "\\frame{\\titlepage}\n",
    "```"
   ]
  },
  {
   "cell_type": "markdown",
   "metadata": {},
   "source": [
    "```{=latex}\n",
    "\n",
    "\\begin{frame}\n",
    "\\frametitle{Shared Mutable State is Bad}\n",
    "\n",
    "Options:\n",
    "\n",
    "\\begin{itemize}\n",
    "\\item Don't share\n",
    "\\item Don't mutate\n",
    "\\end{itemize}\n",
    "\n",
    "\\end{frame}\n",
    "```\n"
   ]
  },
  {
   "cell_type": "markdown",
   "metadata": {},
   "source": [
    "Shared mutable state is bad. Sometimes people associate that badness with threads, but threads are just one example of how shared mutable state is bad. In Python, it's not even *particularly* bad. Your dictionary will still stay a dictionary. You just might find that the value of a key is different than you expected it tor be.\n",
    "But, after all, this can happen even if you sent this dictionary to a function. Or made the dictionary be a class or instance variable. Or had a function capture it via a closure, then send it to another object, which finally mutated it. \n",
    "\n",
    "If shared mutable state is bad, there are only two ways to avoid it. One way is to avoid sharing. This is *really* hard in Python. Objects are thrown around all the time. The only other way is to avoid mutating."
   ]
  },
  {
   "cell_type": "markdown",
   "metadata": {},
   "source": [
    "```{=latex}\n",
    "\n",
    "\\begin{frame}\n",
    "\\frametitle{Avoid Sharing?}\n",
    "\n",
    "What about\n",
    "\n",
    "\\begin{itemize}\n",
    "\\item Modules\n",
    "\\item Function defaults\n",
    "\\item Class variables\n",
    "\\item Arguments\n",
    "\\end{itemize}\n",
    "\n",
    "\\end{frame}\n",
    "```\n"
   ]
  },
  {
   "cell_type": "markdown",
   "metadata": {},
   "source": [
    "But, after all, this can happen even if you sent this dictionary to a function. Or made the dictionary be a class or instance variable. Or had a function capture it via a closure, then send it to another object, which finally mutated it. "
   ]
  },
  {
   "cell_type": "markdown",
   "metadata": {},
   "source": [
    "```{=latex}\n",
    "\n",
    "\\begin{frame}\n",
    "\\frametitle{Avoid Mutating!}\n",
    "\n",
    "Much better.\n",
    "\n",
    "\\end{frame}\n",
    "```\n"
   ]
  },
  {
   "cell_type": "markdown",
   "metadata": {},
   "source": [
    "If shared mutable state is bad, there are only two ways to avoid it. One way is to avoid sharing. This is *really* hard in Python. Objects are thrown around all the time. The only other way is to avoid mutating. In this talk, we will explore programs without change. Not only will this neatly avoid shared mutable change, I will explore other benefits from having constancy."
   ]
  },
  {
   "cell_type": "markdown",
   "metadata": {},
   "source": [
    "```{=latex}\n",
    "\n",
    "\\begin{frame}\n",
    "\\frametitle{Digression: Are Squares Rectangles?}\n",
    "\n",
    "...and why would anyone care?\n",
    "\n",
    "\\end{frame}\n",
    "```\n"
   ]
  },
  {
   "cell_type": "markdown",
   "metadata": {},
   "source": [
    "But first, I want to take you on a little digressions: are squares rectangles? Well, a rectangle is a shape with 4 sides and 4 right angles, and a square is a shape with 4 sides and 4 right angles where all the sides are the same. So it sound like every square is a rectangle.\n",
    "\n",
    "We are not in a math conference, though. We came here to talk about Python. How would we implement a rectangle in Python? We would write an Interface, of course. (You might write ABCs, or Protocols: they have the same problems, but they are easier to see with some of the tooling around interfaces.)"
   ]
  },
  {
   "cell_type": "markdown",
   "metadata": {},
   "source": [
    "```{=latex}\n",
    "\\begin{frame}[fragile]\n",
    "\\frametitle{What's a Rectangle (in Python)}\n",
    "```"
   ]
  },
  {
   "cell_type": "code",
   "execution_count": 2,
   "metadata": {},
   "outputs": [],
   "source": [
    "class IRectangle(Interface):\n",
    "    def get_height() -> float:\n",
    "        \"\"\"Return height\"\"\"\n",
    "    def get_width() -> float:\n",
    "        \"\"\"Return width\"\"\"\n",
    "    def set_height(height: float):\n",
    "        \"\"\"Set height\"\"\"\n",
    "    def set_width(width: float):\n",
    "        \"\"\"Set width\"\"\""
   ]
  },
  {
   "cell_type": "markdown",
   "metadata": {},
   "source": [
    "```{=latex}\n",
    "\\end{frame}\n",
    "```"
   ]
  },
  {
   "cell_type": "markdown",
   "metadata": {},
   "source": [
    "This is the most straightforward interface I can think of. We want to be able to get the height and the width, and we want to be able to set them. With this interface written, it is time to start implementing it. So let's write a square class that implements this interface."
   ]
  },
  {
   "cell_type": "markdown",
   "metadata": {},
   "source": [
    "```{=latex}\n",
    "\\begin{frame}[fragile]\n",
    "\\frametitle{What's a Square (in Python)}\n",
    "```"
   ]
  },
  {
   "cell_type": "code",
   "execution_count": 3,
   "metadata": {},
   "outputs": [
    {
     "name": "stderr",
     "output_type": "stream",
     "text": [
      "The IRectangle.set_height(height) attribute was not provided\n",
      "The IRectangle.set_width(width) attribute was not provided\n"
     ]
    }
   ],
   "source": [
    "@implementer(IRectangle)\n",
    "@attr.s(auto_attribs=True)\n",
    "class Square:\n",
    "    _side: float\n",
    "    def get_height(self) -> float: return self._side\n",
    "    def get_width(self) -> float: return self._side\n",
    "try: verifyClass(IRectangle, Square)\n",
    "except Exception as exc:\n",
    "    print(textwrap.dedent(str(exc).split(\":\")[1]\n",
    "          ).strip().replace(\"__main__.\", \"\"),\n",
    "          file=sys.stderr)"
   ]
  },
  {
   "cell_type": "markdown",
   "metadata": {},
   "source": [
    "```{=latex}\n",
    "\\end{frame}\n",
    "```"
   ]
  },
  {
   "cell_type": "markdown",
   "metadata": {},
   "source": [
    "We were in such a rush to write the class we forgot to implement a couple of methods. This happens even to the best of us. Different ways of specifying interfaces in different ways. With `ABC`, this would make `Square` an abstract class that cannot be instantiated, so it would probably fail when you unit test. With `Protocol`, it would fail when you run `mypy`. But however you do it, this is not a problem -- we'll just dive right in and implement those!"
   ]
  },
  {
   "cell_type": "markdown",
   "metadata": {},
   "source": [
    "```{=latex}\n",
    "\\begin{frame}[fragile]\n",
    "\\frametitle{What's a Square (in Python) (Fixed)}\n",
    "\n",
    "An easy mistake -- we forgot a couple of methods.\n",
    "\n",
    "Let's fix that.\n",
    "```"
   ]
  },
  {
   "cell_type": "code",
   "execution_count": 4,
   "metadata": {},
   "outputs": [],
   "source": [
    "@implementer(IRectangle)\n",
    "@attr.s(auto_attribs=True)\n",
    "class Square:\n",
    "    _side: float\n",
    "    def get_height(self) -> float: return self._side\n",
    "    def get_width(self) -> float: return self._side\n",
    "    def set_height(self, height: float):\n",
    "        self._side = height # ???\n",
    "    def set_width(self, width: float):\n",
    "        self._side = width # ???"
   ]
  },
  {
   "cell_type": "markdown",
   "metadata": {},
   "source": [
    "```{=latex}\n",
    "\\end{frame}\n",
    "```"
   ]
  },
  {
   "cell_type": "markdown",
   "metadata": {},
   "source": [
    "But there is something weird when we set the length of the sides. The two methods have the same implementation! Not just that, but modifying the height modifies the width. But is this so bad?\n",
    "\n",
    "Well, what do people do with rectangles?"
   ]
  },
  {
   "cell_type": "markdown",
   "metadata": {},
   "source": [
    "```{=latex}\n",
    "\\begin{frame}[fragile]\n",
    "\\frametitle{What Do You Do With a Shape (in Python)}\n",
    "```"
   ]
  },
  {
   "cell_type": "code",
   "execution_count": 5,
   "metadata": {},
   "outputs": [],
   "source": [
    "def area(rectangle: IRectangle) -> float:\n",
    "    return (rectangle.get_height() *\n",
    "            rectangle.get_width())\n",
    "def double_height(rectangle: IRectangle) -> float:\n",
    "    rectangle.set_height(\n",
    "        2 * rectangle.get_height())"
   ]
  },
  {
   "cell_type": "markdown",
   "metadata": {},
   "source": [
    "```{=latex}\n",
    "\\end{frame}\n",
    "```"
   ]
  },
  {
   "cell_type": "markdown",
   "metadata": {},
   "source": [
    "The goal of writing an interface is to be able to have code that can work on any object that conforms to the interface. One nice things about rectangles is that we can write a function that will calculate the area of a rectangle given our interface: we just multiply the width and the height. We can also write a function that will grab the height, and set the height to double that. This is a fun way to stretch a rectangle."
   ]
  },
  {
   "cell_type": "markdown",
   "metadata": {},
   "source": [
    "```{=latex}\n",
    "\\begin{frame}[fragile]\n",
    "\\frametitle{What Do You Do With a Shape (in Python) (Cont.)}\n",
    "```"
   ]
  },
  {
   "cell_type": "code",
   "execution_count": 6,
   "metadata": {},
   "outputs": [
    {
     "name": "stdout",
     "output_type": "stream",
     "text": [
      "25\n",
      "100\n"
     ]
    }
   ],
   "source": [
    "x = Square(side=5)\n",
    "print(area(x))\n",
    "double_height(x)\n",
    "print(area(x))"
   ]
  },
  {
   "cell_type": "markdown",
   "metadata": {},
   "source": [
    "```{=latex}\n",
    "\\end{frame}\n",
    "```"
   ]
  },
  {
   "cell_type": "markdown",
   "metadata": {},
   "source": [
    "But what happens when the generic code meets a square? You tried to stretch the rectangle, but instead you quadrupled, not doubled, the area. Because the square had to make sure all sides are the same, you couldn't stretch it. In some sense, the interface we specified was not compatible with squares. So, are squares not rectangles? Is math dead?"
   ]
  },
  {
   "cell_type": "markdown",
   "metadata": {},
   "source": [
    "```{=latex}\n",
    "\\begin{frame}[fragile]\n",
    "\\frametitle{Let's Stop Mutating}\n",
    "```"
   ]
  },
  {
   "cell_type": "code",
   "execution_count": 7,
   "metadata": {},
   "outputs": [],
   "source": [
    "class IRectangle(Interface):\n",
    "    def get_height() -> float:\n",
    "        \"\"\"Return height\"\"\"\n",
    "    def get_width() -> float:\n",
    "        \"\"\"Return width\"\"\"\n",
    "    def with_height(height: float) -> IRectangle:\n",
    "        \"\"\"Rectangle with same width, new height\"\"\"\n",
    "    def with_width(width: float) -> IRectangle:\n",
    "        \"\"\"Rectangle with same height, new width\"\"\""
   ]
  },
  {
   "cell_type": "markdown",
   "metadata": {},
   "source": [
    "```{=latex}\n",
    "\\end{frame}\n",
    "```"
   ]
  },
  {
   "cell_type": "markdown",
   "metadata": {},
   "source": [
    "Our enemy was none other than that constant thorn in our side: mutation. Even when there was no sharing, it *still* managed to break our code. As always the solution is just to avoid mutation. Our new interface does not require shapes to change (what a weird notion!) Instead, a rectangle can return a new rectangle with a different height and width. Does that solve our problem?"
   ]
  },
  {
   "cell_type": "markdown",
   "metadata": {},
   "source": [
    "```{=latex}\n",
    "\\begin{frame}[fragile]\n",
    "\\frametitle{The Immutable Rectangle}\n",
    "```"
   ]
  },
  {
   "cell_type": "code",
   "execution_count": 8,
   "metadata": {},
   "outputs": [],
   "source": [
    "@implementer(IRectangle)\n",
    "@attr.s(auto_attribs=True, frozen=True)\n",
    "class Rectangle:\n",
    "    _height: float\n",
    "    _width: float\n",
    "    def get_height(self) -> float:\n",
    "        return self._height \n",
    "    def get_width(self) -> float:\n",
    "        return self._width\n",
    "    def with_height(self, height) -> float:\n",
    "        return attr.evolve(self, height=height)\n",
    "    def with_width(self, width) -> float:\n",
    "        return attr.evolve(self, width=width)"
   ]
  },
  {
   "cell_type": "markdown",
   "metadata": {},
   "source": [
    "```{=latex}\n",
    "\\end{frame}\n",
    "```"
   ]
  },
  {
   "cell_type": "markdown",
   "metadata": {},
   "source": [
    "Ah, you say, that sounds like a big pain. Instead of changing some attributes, now I need to create a whole new object? Luckily, the attrs library has our back with `attr.evolve` that makes it no harder than just setting an attribute."
   ]
  },
  {
   "cell_type": "markdown",
   "metadata": {},
   "source": [
    "```{=latex}\n",
    "\\begin{frame}[fragile]\n",
    "\\frametitle{The Immutable Square}\n",
    "```"
   ]
  },
  {
   "cell_type": "code",
   "execution_count": 9,
   "metadata": {},
   "outputs": [
    {
     "data": {
      "text/plain": [
       "True"
      ]
     },
     "execution_count": 9,
     "metadata": {},
     "output_type": "execute_result"
    }
   ],
   "source": [
    "@implementer(IRectangle)\n",
    "@attr.s(auto_attribs=True)\n",
    "class Square:\n",
    "    _side: float\n",
    "    def get_height(self) -> float:\n",
    "        return self._side\n",
    "    def get_width(self) -> float:\n",
    "        return self._side\n",
    "    def with_height(self, height: float) -> IRectangle:\n",
    "        return Rectangle(width=self._side,\n",
    "                         height=height)\n",
    "    def with_width(self, width: float) -> IRectangle:\n",
    "        return Rectangle(height=self._side,\n",
    "                         width=width)\n",
    "verifyClass(IRectangle, Square)"
   ]
  },
  {
   "cell_type": "markdown",
   "metadata": {},
   "source": [
    "```{=latex}\n",
    "\\end{frame}\n",
    "```"
   ]
  },
  {
   "cell_type": "markdown",
   "metadata": {},
   "source": [
    "But we could already have a \"canonical\" implementation of a rectangle. The problem we struggled with was implementing an `IRectangle`-compatible *`Square`*. Can we do that? We did try to do it before, but forgot a couple of methods. Now we made sure we verified the interface, but we ended up being technically compatible last time too. What changed?"
   ]
  },
  {
   "cell_type": "markdown",
   "metadata": {},
   "source": [
    "```{=latex}\n",
    "\\begin{frame}[fragile]\n",
    "\\frametitle{What Do You Do With an Immutable Shape (in Python)}\n",
    "```"
   ]
  },
  {
   "cell_type": "code",
   "execution_count": 10,
   "metadata": {},
   "outputs": [
    {
     "name": "stdout",
     "output_type": "stream",
     "text": [
      "25\n",
      "50\n"
     ]
    }
   ],
   "source": [
    "def double_height(rectangle):\n",
    "    return rectangle.with_height(\n",
    "        2 * rectangle.get_height())\n",
    "x = Square(side=5)\n",
    "print(area(x))\n",
    "print(area(double_height(x)))"
   ]
  },
  {
   "cell_type": "markdown",
   "metadata": {},
   "source": [
    "```{=latex}\n",
    "\\end{frame}\n",
    "```"
   ]
  },
  {
   "cell_type": "markdown",
   "metadata": {},
   "source": [
    "Because `Square.with_height` did not have to return a square, it could return the right thing: a rectangle that only has its height stretched. Immutability fixed our code. Now the area of the stretched rectangle is 50, as we expected."
   ]
  },
  {
   "cell_type": "markdown",
   "metadata": {},
   "source": [
    "```{=latex}\n",
    "\\begin{frame}[fragile]\n",
    "\\frametitle{Let's Get Back to Sharing}\n",
    "\n",
    "At some point, someone told you not to do this.\n",
    "Do you remember why?\n",
    "```"
   ]
  },
  {
   "cell_type": "code",
   "execution_count": 11,
   "metadata": {},
   "outputs": [],
   "source": [
    "def sum_with_extra(e1, e2, things=[]):\n",
    "    things.append(e1)\n",
    "    things.append(e2)\n",
    "    return sum(things)"
   ]
  },
  {
   "cell_type": "markdown",
   "metadata": {},
   "source": [
    "```{=latex}\n",
    "\\end{frame}\n",
    "```"
   ]
  },
  {
   "cell_type": "markdown",
   "metadata": {},
   "source": [
    "Modern linters would warn on this code, even though it is completely legal. Maybe you didn't learn about this from a linter -- maybe a friend, a colleague, or a teacher explained that this is a bad idea. Hopefully, you have not done this since, so you might not remember quite why it was a bad idea.\n",
    "\n",
    "Let's try and remember."
   ]
  },
  {
   "cell_type": "markdown",
   "metadata": {},
   "source": [
    "```{=latex}\n",
    "\\begin{frame}[fragile]\n",
    "\\frametitle{A Bad Trip Down Memory Lane}\n",
    "```"
   ]
  },
  {
   "cell_type": "code",
   "execution_count": 12,
   "metadata": {},
   "outputs": [
    {
     "data": {
      "text/plain": [
       "10"
      ]
     },
     "execution_count": 12,
     "metadata": {},
     "output_type": "execute_result"
    }
   ],
   "source": [
    "sum_with_extra(1, 2, [3, 4])"
   ]
  },
  {
   "cell_type": "code",
   "execution_count": 13,
   "metadata": {},
   "outputs": [
    {
     "data": {
      "text/plain": [
       "3"
      ]
     },
     "execution_count": 13,
     "metadata": {},
     "output_type": "execute_result"
    }
   ],
   "source": [
    "sum_with_extra(1, 2)"
   ]
  },
  {
   "cell_type": "code",
   "execution_count": 14,
   "metadata": {},
   "outputs": [
    {
     "data": {
      "text/plain": [
       "6"
      ]
     },
     "execution_count": 14,
     "metadata": {},
     "output_type": "execute_result"
    }
   ],
   "source": [
    "# Whoops!\n",
    "sum_with_extra(1, 2)"
   ]
  },
  {
   "cell_type": "markdown",
   "metadata": {},
   "source": [
    "```{=latex}\n",
    "\\end{frame}\n",
    "```"
   ]
  },
  {
   "cell_type": "markdown",
   "metadata": {},
   "source": [
    "Ah, yes. Because the default argument is only computed at function definition time, now it is *shared*. Lists, in Python, are *mutable*. Shared and mutable? Sounds like we have a problem on our hands. Indeed, we do! `sum_with_extra` has \"memory\". This is not great."
   ]
  },
  {
   "cell_type": "markdown",
   "metadata": {},
   "source": [
    "```{=latex}\n",
    "\\begin{frame}[fragile]\n",
    "\\frametitle{The Fix is Easy!}\n",
    "```"
   ]
  },
  {
   "cell_type": "code",
   "execution_count": 15,
   "metadata": {},
   "outputs": [],
   "source": [
    "def sum_with_extra_v2(e1, e2, things=None):\n",
    "    if things is None:\n",
    "        things = []\n",
    "    things.append(e1)\n",
    "    things.append(e2)\n",
    "    return sum(things)"
   ]
  },
  {
   "cell_type": "markdown",
   "metadata": {},
   "source": [
    "```{=latex}\n",
    "\\end{frame}\n",
    "```"
   ]
  },
  {
   "cell_type": "markdown",
   "metadata": {},
   "source": [
    "This is why there is a standard idiom to fix this. It does add two lines of code to our three line function, almost doubling it in size, but you have probably written this code so many times you barely noticed. This is more of a \"boilerplate\" and less of an \"idiom\". But, we all do it, and then our code is correct."
   ]
  },
  {
   "cell_type": "markdown",
   "metadata": {},
   "source": [
    "```{=latex}\n",
    "\\begin{frame}[fragile]\n",
    "\\frametitle{Everything is Awesome!}\n",
    "```"
   ]
  },
  {
   "cell_type": "code",
   "execution_count": 16,
   "metadata": {},
   "outputs": [
    {
     "data": {
      "text/plain": [
       "10"
      ]
     },
     "execution_count": 16,
     "metadata": {},
     "output_type": "execute_result"
    }
   ],
   "source": [
    "sum_with_extra_v2(1, 2, [3, 4])"
   ]
  },
  {
   "cell_type": "code",
   "execution_count": 17,
   "metadata": {},
   "outputs": [
    {
     "data": {
      "text/plain": [
       "3"
      ]
     },
     "execution_count": 17,
     "metadata": {},
     "output_type": "execute_result"
    }
   ],
   "source": [
    "sum_with_extra_v2(1, 2)"
   ]
  },
  {
   "cell_type": "code",
   "execution_count": 18,
   "metadata": {},
   "outputs": [
    {
     "data": {
      "text/plain": [
       "3"
      ]
     },
     "execution_count": 18,
     "metadata": {},
     "output_type": "execute_result"
    }
   ],
   "source": [
    "sum_with_extra_v2(1, 2)"
   ]
  },
  {
   "cell_type": "code",
   "execution_count": 19,
   "metadata": {},
   "outputs": [
    {
     "data": {
      "text/plain": [
       "6"
      ]
     },
     "execution_count": 19,
     "metadata": {},
     "output_type": "execute_result"
    }
   ],
   "source": [
    "things = [1, 2]; sum_with_extra_v2(1, 2, things)"
   ]
  },
  {
   "cell_type": "code",
   "execution_count": 20,
   "metadata": {},
   "outputs": [
    {
     "data": {
      "text/plain": [
       "9"
      ]
     },
     "execution_count": 20,
     "metadata": {},
     "output_type": "execute_result"
    }
   ],
   "source": [
    "# Whoops!\n",
    "sum_with_extra_v2(1, 2, things)"
   ]
  },
  {
   "cell_type": "markdown",
   "metadata": {},
   "source": [
    "```{=latex}\n",
    "\\end{frame}\n",
    "```"
   ]
  },
  {
   "cell_type": "markdown",
   "metadata": {},
   "source": [
    "OK, maybe the word \"correct\" was a bit premature. Seems like our code still has some kinks to work out. If we modify the argument, and someone still holds a reference, then we are going to have a pretty bad time. Their object will change, without them knowing. Once again, we shared a mutable object, and paid the price."
   ]
  },
  {
   "cell_type": "markdown",
   "metadata": {},
   "source": [
    "```{=latex}\n",
    "\\begin{frame}[fragile]\n",
    "\\frametitle{One Urgent Hot Fix Later...}\n",
    "\n",
    "We got it to work!\n",
    "```"
   ]
  },
  {
   "cell_type": "code",
   "execution_count": 21,
   "metadata": {},
   "outputs": [],
   "source": [
    "def sum_with_extra_v3(e1, e2, things=None):\n",
    "    if things is None:\n",
    "        things = []\n",
    "    things = things.copy()\n",
    "    things.append(e1)\n",
    "    things.append(e2)\n",
    "    return sum(things)"
   ]
  },
  {
   "cell_type": "markdown",
   "metadata": {},
   "source": [
    "```{=latex}\n",
    "\\end{frame}\n",
    "```"
   ]
  },
  {
   "cell_type": "markdown",
   "metadata": {},
   "source": [
    "OK, so technically we can go back to `things=[]` but we already have our linter set to automatically shock anyone who commits this thing after our last incident. So all we had to do was add three lines of boilerplate and we are all good. Three versions, double the code, and our problems are gone. Guess mutability is not so bad after all, huh?"
   ]
  },
  {
   "cell_type": "markdown",
   "metadata": {},
   "source": [
    "```{=latex}\n",
    "\\begin{frame}[fragile]\n",
    "\\frametitle{..Meanwhile, Without Mutation}\n",
    "\n",
    "Let's throw caution to the wind and live our best life.\n",
    "```"
   ]
  },
  {
   "cell_type": "code",
   "execution_count": 22,
   "metadata": {},
   "outputs": [],
   "source": [
    "def sum_with_extra_p_v1(e1, e2, things=v()):\n",
    "    things = things.append(e1)\n",
    "    things = things.append(e2)\n",
    "    return sum(things)"
   ]
  },
  {
   "cell_type": "markdown",
   "metadata": {},
   "source": [
    "```{=latex}\n",
    "\\end{frame}\n",
    "```"
   ]
  },
  {
   "cell_type": "markdown",
   "metadata": {},
   "source": [
    "But what if we had chosen the correct fork in the road, and went with immutable objects. We can use the `pyrsistent` library and have fun immutable sequences. Now we can have our cake and eat it. Our code is almost the same as the one in our original `v1`. The first version forgot the `things = ` in the beginning, but this did not work for any inputs, so we fixed it immediately."
   ]
  },
  {
   "cell_type": "markdown",
   "metadata": {},
   "source": [
    "```{=latex}\n",
    "\\begin{frame}[fragile]\n",
    "\\frametitle{We Don't Need v2}\n",
    "```"
   ]
  },
  {
   "cell_type": "code",
   "execution_count": 23,
   "metadata": {},
   "outputs": [
    {
     "data": {
      "text/plain": [
       "3"
      ]
     },
     "execution_count": 23,
     "metadata": {},
     "output_type": "execute_result"
    }
   ],
   "source": [
    "sum_with_extra_p_v1(1, 2)"
   ]
  },
  {
   "cell_type": "code",
   "execution_count": 24,
   "metadata": {},
   "outputs": [
    {
     "data": {
      "text/plain": [
       "3"
      ]
     },
     "execution_count": 24,
     "metadata": {},
     "output_type": "execute_result"
    }
   ],
   "source": [
    "sum_with_extra_p_v1(1, 2)"
   ]
  },
  {
   "cell_type": "code",
   "execution_count": 25,
   "metadata": {},
   "outputs": [
    {
     "data": {
      "text/plain": [
       "6"
      ]
     },
     "execution_count": 25,
     "metadata": {},
     "output_type": "execute_result"
    }
   ],
   "source": [
    "things = v(1, 2)\n",
    "sum_with_extra_p_v1(1, 2, things)"
   ]
  },
  {
   "cell_type": "code",
   "execution_count": 26,
   "metadata": {},
   "outputs": [
    {
     "data": {
      "text/plain": [
       "6"
      ]
     },
     "execution_count": 26,
     "metadata": {},
     "output_type": "execute_result"
    }
   ],
   "source": [
    "sum_with_extra_p_v1(1, 2, things)"
   ]
  },
  {
   "cell_type": "markdown",
   "metadata": {},
   "source": [
    "```{=latex}\n",
    "\\end{frame}\n",
    "```"
   ]
  },
  {
   "cell_type": "markdown",
   "metadata": {},
   "source": [
    "There is no version 2. Version 1 did not have the first problem, and it didn't have the second problem. It just...worked. With the most obvious code. With no boiler plate. Because when we throw away mutability, we get good things."
   ]
  },
  {
   "cell_type": "markdown",
   "metadata": {},
   "source": [
    "```{=latex}\n",
    "\\begin{frame}[fragile]\n",
    "\\frametitle{But Nested Data Structures Are a Drag?}\n",
    "```\n",
    "\n",
    "How do you increase the hits on `web_1`?\n"
   ]
  },
  {
   "cell_type": "code",
   "execution_count": 27,
   "metadata": {},
   "outputs": [],
   "source": [
    "stats = m(\n",
    "    frontend=m(\n",
    "        web_1=m(hits=53),\n",
    "        web_2=m(hits=78)),\n",
    "    backend=m(\n",
    "        db1=m(queries=23),\n",
    "        db2=m(queries=11)))\n",
    "\n",
    "# This doesn't work:\n",
    "# stats[\"frontend\"][\"web_1\"][\"hits\"] += 1"
   ]
  },
  {
   "cell_type": "markdown",
   "metadata": {},
   "source": [
    "```{=latex}\n",
    "\\end{frame}\n",
    "```"
   ]
  },
  {
   "cell_type": "markdown",
   "metadata": {},
   "source": [
    "But nested immutable datastructures, right? They are a pain. Where with a dict-of-dict we could have just done the obvious `+= 1`, now we have to get a new inner-inner-dictionary, then update so we can have an inner-dictionary, and then, finally, we update the top-level dictionary. This sounds like a lot of boilerplate again. We just moved the boilerplate around!"
   ]
  },
  {
   "cell_type": "markdown",
   "metadata": {},
   "source": [
    "```{=latex}\n",
    "\\begin{frame}[fragile]\n",
    "\\frametitle{Like This}\n",
    "```"
   ]
  },
  {
   "cell_type": "code",
   "execution_count": 28,
   "metadata": {},
   "outputs": [
    {
     "name": "stdout",
     "output_type": "stream",
     "text": [
      "{'backend': {'db1': {'queries': 23},\n",
      "             'db2': {'queries': 11}},\n",
      " 'frontend': {'web_1': {'hits': 54},\n",
      "              'web_2': {'hits': 78}}}\n"
     ]
    }
   ],
   "source": [
    "new_stats = stats.transform(\n",
    "    v(\"frontend\", \"web_1\", \"hits\"), \n",
    "    lambda x: x + 1)\n",
    "pprint.pprint(pyrsistent.thaw(new_stats),\n",
    "              width=50)"
   ]
  },
  {
   "cell_type": "markdown",
   "metadata": {},
   "source": [
    "```{=latex}\n",
    "\\end{frame}\n",
    "```"
   ]
  },
  {
   "cell_type": "markdown",
   "metadata": {},
   "source": [
    "Well, maybe there is a better way. Pyrsistent supports deep \"transforms\" that do all of those things for you, and just return a new top-level dictionary. This is a little bit more code than with regular nested dictionaries, but not much more. The biggest thing is having to define an anonymous function to specify the \"mutation\"."
   ]
  },
  {
   "cell_type": "markdown",
   "metadata": {},
   "source": [
    "```{=latex}\n",
    "\\begin{frame}\n",
    "\\frametitle{Conclusion}\n",
    "\n",
    "\\begin{itemize}\n",
    "\\item Sharing good\n",
    "\\item Mutation bad\n",
    "\\item Share more\n",
    "\\item Mutate less\n",
    "\\item Be happy\n",
    "\\end{itemize}\n",
    "\n",
    "\\end{frame}\n",
    "```"
   ]
  },
  {
   "cell_type": "markdown",
   "metadata": {},
   "source": [
    "```{=latex}\n",
    "\\end{document}\n",
    "```"
   ]
  },
  {
   "cell_type": "markdown",
   "metadata": {},
   "source": [
    "Just like you were taught in kindergarden, sharing is good. Just like you were taught in kindergarden, breaking someone else's toy, or in this case, data structure, is bad. As long as there is no mutation, sharing is fun, easy, and efficient. Use immutable objects and data structures, share them more, and be happy as you don't have to worry about mutations."
   ]
  },
  {
   "cell_type": "code",
   "execution_count": null,
   "metadata": {},
   "outputs": [],
   "source": []
  }
 ],
 "metadata": {
  "kernelspec": {
   "display_name": "why-change",
   "language": "python",
   "name": "why-change-venv"
  },
  "language_info": {
   "codemirror_mode": {
    "name": "ipython",
    "version": 3
   },
   "file_extension": ".py",
   "mimetype": "text/x-python",
   "name": "python",
   "nbconvert_exporter": "python",
   "pygments_lexer": "ipython3",
   "version": "3.8.3"
  }
 },
 "nbformat": 4,
 "nbformat_minor": 4
}
